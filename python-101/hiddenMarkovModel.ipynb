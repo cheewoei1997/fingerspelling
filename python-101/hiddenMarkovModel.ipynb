{
 "cells": [
  {
   "cell_type": "markdown",
   "metadata": {},
   "source": [
    "# Hidden Markov Model"
   ]
  },
  {
   "cell_type": "code",
   "execution_count": 1,
   "metadata": {},
   "outputs": [],
   "source": [
    "from hmmlearn import hmm\n",
    "import numpy as np\n",
    "import math"
   ]
  },
  {
   "cell_type": "code",
   "execution_count": 3,
   "metadata": {},
   "outputs": [],
   "source": [
    "states = ('Rainy' , 'Sunny')\n",
    "observations = ('walk', 'shop', 'clean')\n",
    "start_probability = {'Rainy':0.6, 'Sunny':0.4}\n",
    "transition_probability = {\n",
    "    'Rainy':{'Rainy':0.7, 'Sunny':0.3},\n",
    "    'Sunny':{'Rainy':0.4, 'Sunny':0.6}\n",
    "}\n",
    "\n",
    "emission_probability = {\n",
    "    'Rainy':{'walk':0.1, 'shop':0.4, 'clean':0.5},\n",
    "    'Sunny':{'walk':0.6, 'shop':0.3, 'clean':0.1}\n",
    "}\n",
    "\n",
    "model = hmm.MultinomialHMM(n_components=2)\n",
    "model.startprob_ = np.array([0.6, 0.4])\n",
    "model.transmat_ = np.array([[0.7, 0.3],\n",
    "                           [0.4, 0.6]])\n",
    "model.emissionprob_ = np.array([[0.1, 0.4, 0.5],\n",
    "                              [0.6, 0.3, 0.1]])"
   ]
  },
  {
   "cell_type": "code",
   "execution_count": 4,
   "metadata": {},
   "outputs": [
    {
     "name": "stdout",
     "output_type": "stream",
     "text": [
      "0.30000000000000004\n",
      "0.36000000000000004\n",
      "0.3400000000000001\n"
     ]
    }
   ],
   "source": [
    "print(math.exp(model.score(np.array([[0]])))) #walk\n",
    "print(math.exp(model.score(np.array([[1]])))) #shop\n",
    "print(math.exp(model.score(np.array([[2]])))) #clean"
   ]
  },
  {
   "cell_type": "code",
   "execution_count": null,
   "metadata": {},
   "outputs": [],
   "source": [
    "model.decode(np.array([[0, 1, 2]]).transpose())"
   ]
  }
 ],
 "metadata": {
  "kernelspec": {
   "display_name": "Python 3",
   "language": "python",
   "name": "python3"
  },
  "language_info": {
   "codemirror_mode": {
    "name": "ipython",
    "version": 3
   },
   "file_extension": ".py",
   "mimetype": "text/x-python",
   "name": "python",
   "nbconvert_exporter": "python",
   "pygments_lexer": "ipython3",
   "version": "3.6.5"
  }
 },
 "nbformat": 4,
 "nbformat_minor": 2
}
