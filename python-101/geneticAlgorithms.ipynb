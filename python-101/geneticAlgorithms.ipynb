{
 "cells": [
  {
   "cell_type": "markdown",
   "metadata": {},
   "source": [
    "# Genetic Algorithms"
   ]
  },
  {
   "cell_type": "code",
   "execution_count": 3,
   "metadata": {},
   "outputs": [],
   "source": [
    "import random, datetime\n",
    "\n",
    "random.seed()\n",
    "geneSet = \"abcdefghijkllmnopqrstuvwxyzABCDEFGHIJKLMNOPQRSTUVWXYZ!.\"\n",
    "target = \"Hello World\"\n",
    "startTime = datetime.datetime.now()"
   ]
  },
  {
   "cell_type": "markdown",
   "metadata": {},
   "source": [
    "`random.seed()` is to initialize internal state of the random number generator.  \n",
    "https://docs.python.org/2/library/random.html"
   ]
  },
  {
   "cell_type": "code",
   "execution_count": 4,
   "metadata": {},
   "outputs": [
    {
     "name": "stdout",
     "output_type": "stream",
     "text": [
      "None\n"
     ]
    }
   ],
   "source": [
    "print(random.seed())"
   ]
  },
  {
   "cell_type": "code",
   "execution_count": 5,
   "metadata": {},
   "outputs": [],
   "source": [
    "def generateParent(length):\n",
    "    genes = list(\"\")\n",
    "    \n",
    "    for i in range(0, length):\n",
    "        geneIndex = random.randint(0, len(geneSet)-1)\n",
    "        genes.append(geneSet[geneIndex])\n",
    "        \n",
    "    return(''.join(genes))"
   ]
  },
  {
   "cell_type": "code",
   "execution_count": 6,
   "metadata": {},
   "outputs": [],
   "source": [
    "def getFitness(candidate, target):\n",
    "    fitness = 0\n",
    "    \n",
    "    for i in range(0, len(candidate)):\n",
    "        if target[i] == candidate[i]:\n",
    "            fitness += 1\n",
    "            \n",
    "    return(fitness)"
   ]
  },
  {
   "cell_type": "code",
   "execution_count": 7,
   "metadata": {},
   "outputs": [],
   "source": [
    "def mutate(parent):\n",
    "    geneIndex = random.randint(0, len(geneSet)-1)\n",
    "    index = random.randint(0, len(parent)-1)\n",
    "    genes = list(parent)\n",
    "    genes[index] = geneSet[geneIndex]\n",
    "    return(''.join(genes))"
   ]
  },
  {
   "cell_type": "code",
   "execution_count": 8,
   "metadata": {},
   "outputs": [],
   "source": [
    "def display(candidate, startTime):\n",
    "    timeDiff = datetime.datetime.now() - startTime\n",
    "    fitness = getFitness(candidate, target)\n",
    "    print((\"%s\\t%i\\t%s\") % (candidate, fitness, str(timeDiff)))"
   ]
  },
  {
   "cell_type": "code",
   "execution_count": null,
   "metadata": {},
   "outputs": [
    {
     "name": "stdout",
     "output_type": "stream",
     "text": [
      "vDmubmQekuA\t0\t0:00:03.478723\n",
      "vDmlbmQekuA\t1\t0:00:03.478875\n",
      "vDmlbmQokuA\t2\t0:00:03.478952\n",
      "vDllbmQokuA\t3\t0:00:03.479632\n",
      "vDllbmQoruA\t4\t0:00:03.480161\n",
      "vDllomQoruA\t5\t0:00:03.480797\n",
      "vDllomQorlA\t6\t0:00:03.481266\n",
      "vellomQorlA\t7\t0:00:03.484209\n",
      "vellomQorld\t8\t0:00:03.486409\n",
      "HellomQorld\t9\t0:00:03.489941\n",
      "HellomWorld\t10\t0:00:03.494116\n"
     ]
    }
   ],
   "source": [
    "bestParent = generateParent(len(target))\n",
    "bestFitness = getFitness(bestParent, target)\n",
    "display(bestParent, startTime)\n",
    "\n",
    "while bestFitness < len(bestParent):\n",
    "    child = mutate(bestParent)\n",
    "    childFitness = getFitness(child, target)\n",
    "    \n",
    "    if childFitness > bestFitness:\n",
    "        bestFitness = childFitness\n",
    "        bestParent = child\n",
    "        display(bestParent, startTime)"
   ]
  }
 ],
 "metadata": {
  "kernelspec": {
   "display_name": "Python 3",
   "language": "python",
   "name": "python3"
  },
  "language_info": {
   "codemirror_mode": {
    "name": "ipython",
    "version": 3
   },
   "file_extension": ".py",
   "mimetype": "text/x-python",
   "name": "python",
   "nbconvert_exporter": "python",
   "pygments_lexer": "ipython3",
   "version": "3.6.5"
  }
 },
 "nbformat": 4,
 "nbformat_minor": 2
}
